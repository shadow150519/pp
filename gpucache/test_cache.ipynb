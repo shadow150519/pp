{
 "cells": [
  {
   "cell_type": "code",
   "execution_count": 1,
   "metadata": {},
   "outputs": [],
   "source": [
    "import cache_wrapper\n",
    "from cache_wrapper import CacheWrapper\n",
    "import torch"
   ]
  },
  {
   "cell_type": "code",
   "execution_count": 2,
   "metadata": {},
   "outputs": [
    {
     "name": "stdout",
     "output_type": "stream",
     "text": [
      "Cache: keySize: 4, valueSize: 400, dim: 100, capacity: 4096, maxQueryNum: 1024, deviceId: 0\n"
     ]
    }
   ],
   "source": [
    "embedding = torch.arange(0,300,dtype=torch.float32,device=\"cuda:0\").reshape(-1,100)\n",
    "cache = CacheWrapper(embedding,4096,\"LRU\",100,1024,0)"
   ]
  },
  {
   "cell_type": "code",
   "execution_count": 3,
   "metadata": {},
   "outputs": [
    {
     "data": {
      "text/plain": [
       "(tensor([[  0.,   1.,   2.,   3.,   4.,   5.,   6.,   7.,   8.,   9.,  10.,  11.,\n",
       "           12.,  13.,  14.,  15.,  16.,  17.,  18.,  19.,  20.,  21.,  22.,  23.,\n",
       "           24.,  25.,  26.,  27.,  28.,  29.,  30.,  31.,  32.,  33.,  34.,  35.,\n",
       "           36.,  37.,  38.,  39.,  40.,  41.,  42.,  43.,  44.,  45.,  46.,  47.,\n",
       "           48.,  49.,  50.,  51.,  52.,  53.,  54.,  55.,  56.,  57.,  58.,  59.,\n",
       "           60.,  61.,  62.,  63.,  64.,  65.,  66.,  67.,  68.,  69.,  70.,  71.,\n",
       "           72.,  73.,  74.,  75.,  76.,  77.,  78.,  79.,  80.,  81.,  82.,  83.,\n",
       "           84.,  85.,  86.,  87.,  88.,  89.,  90.,  91.,  92.,  93.,  94.,  95.,\n",
       "           96.,  97.,  98.,  99.],\n",
       "         [100., 101., 102., 103., 104., 105., 106., 107., 108., 109., 110., 111.,\n",
       "          112., 113., 114., 115., 116., 117., 118., 119., 120., 121., 122., 123.,\n",
       "          124., 125., 126., 127., 128., 129., 130., 131., 132., 133., 134., 135.,\n",
       "          136., 137., 138., 139., 140., 141., 142., 143., 144., 145., 146., 147.,\n",
       "          148., 149., 150., 151., 152., 153., 154., 155., 156., 157., 158., 159.,\n",
       "          160., 161., 162., 163., 164., 165., 166., 167., 168., 169., 170., 171.,\n",
       "          172., 173., 174., 175., 176., 177., 178., 179., 180., 181., 182., 183.,\n",
       "          184., 185., 186., 187., 188., 189., 190., 191., 192., 193., 194., 195.,\n",
       "          196., 197., 198., 199.],\n",
       "         [200., 201., 202., 203., 204., 205., 206., 207., 208., 209., 210., 211.,\n",
       "          212., 213., 214., 215., 216., 217., 218., 219., 220., 221., 222., 223.,\n",
       "          224., 225., 226., 227., 228., 229., 230., 231., 232., 233., 234., 235.,\n",
       "          236., 237., 238., 239., 240., 241., 242., 243., 244., 245., 246., 247.,\n",
       "          248., 249., 250., 251., 252., 253., 254., 255., 256., 257., 258., 259.,\n",
       "          260., 261., 262., 263., 264., 265., 266., 267., 268., 269., 270., 271.,\n",
       "          272., 273., 274., 275., 276., 277., 278., 279., 280., 281., 282., 283.,\n",
       "          284., 285., 286., 287., 288., 289., 290., 291., 292., 293., 294., 295.,\n",
       "          296., 297., 298., 299.]], device='cuda:0'),\n",
       " tensor([False, False, False], device='cuda:0'))"
      ]
     },
     "execution_count": 3,
     "metadata": {},
     "output_type": "execute_result"
    }
   ],
   "source": [
    "keys = torch.tensor((0,1,2),dtype=torch.int32,device=\"cuda:0\")\n",
    "cache.Get(keys)"
   ]
  },
  {
   "cell_type": "code",
   "execution_count": null,
   "metadata": {},
   "outputs": [],
   "source": []
  },
  {
   "cell_type": "code",
   "execution_count": null,
   "metadata": {},
   "outputs": [],
   "source": []
  },
  {
   "cell_type": "code",
   "execution_count": null,
   "metadata": {},
   "outputs": [],
   "source": []
  },
  {
   "cell_type": "code",
   "execution_count": null,
   "metadata": {},
   "outputs": [],
   "source": []
  }
 ],
 "metadata": {
  "kernelspec": {
   "display_name": "dgl",
   "language": "python",
   "name": "python3"
  },
  "language_info": {
   "codemirror_mode": {
    "name": "ipython",
    "version": 3
   },
   "file_extension": ".py",
   "mimetype": "text/x-python",
   "name": "python",
   "nbconvert_exporter": "python",
   "pygments_lexer": "ipython3",
   "version": "3.10.13"
  }
 },
 "nbformat": 4,
 "nbformat_minor": 2
}
